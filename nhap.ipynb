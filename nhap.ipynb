{
 "cells": [
  {
   "cell_type": "code",
   "execution_count": 1,
   "metadata": {},
   "outputs": [
    {
     "name": "stdout",
     "output_type": "stream",
     "text": [
      "torch.Size([4, 4, 5])\n",
      "torch.Size([4, 4, 5])\n",
      "torch.Size([4, 4, 5])\n"
     ]
    }
   ],
   "source": [
    "import torch\n",
    "import torch.nn as nn\n",
    "from squeezeformer.model import Squeezeformer\n",
    "\n",
    "\n",
    "BATCH_SIZE = 4\n",
    "SEQ_LENGTH = 30\n",
    "INPUT_SIZE = 80\n",
    "NUM_CLASSES = 5\n",
    "\n",
    "device = torch.device('cuda' if torch.cuda.is_available() else 'cpu')\n",
    "\n",
    "criterion = nn.CTCLoss().to(device)\n",
    "model = Squeezeformer(\n",
    "     num_classes=NUM_CLASSES,\n",
    ").to(device)\n",
    "\n",
    "inputs = torch.FloatTensor(BATCH_SIZE, SEQ_LENGTH, INPUT_SIZE).to(device)\n",
    "input_lengths = torch.IntTensor([20, 25, 30, 26]).to(device)\n",
    "targets = torch.LongTensor([[1, 3, 3, 3, 3, 3, 4, 5, 6, 2],\n",
    "                           [1, 3, 3, 3, 3, 3, 4, 5, 2, 0],\n",
    "                           [1, 3, 3, 3, 3, 3, 4, 2, 0, 0],\n",
    "                           [1, 3, 3, 3, 3, 3, 6, 2, 0, 0]]).to(device)\n",
    "target_lengths = torch.LongTensor([9, 8, 7, 7]).to(device)\n",
    "\n",
    "# Forward propagate\n",
    "outputs, output_lengths = model(inputs, input_lengths)\n",
    "\n",
    "# Calculate CTC Loss\n",
    "for _ in range(3):\n",
    "     outputs, output_lengths = model(inputs, input_lengths)\n",
    "     print(outputs.shape)\n",
    "     loss = criterion(outputs.transpose(0, 1), targets[:, 1:], output_lengths, target_lengths)\n",
    "     loss.backward()"
   ]
  },
  {
   "cell_type": "code",
   "execution_count": 2,
   "metadata": {},
   "outputs": [
    {
     "data": {
      "text/plain": [
       "tensor([2, 2, 4, 2], device='cuda:0', dtype=torch.int32)"
      ]
     },
     "execution_count": 2,
     "metadata": {},
     "output_type": "execute_result"
    }
   ],
   "source": [
    "output_lengths"
   ]
  },
  {
   "cell_type": "code",
   "execution_count": null,
   "metadata": {},
   "outputs": [],
   "source": []
  }
 ],
 "metadata": {
  "kernelspec": {
   "display_name": "Python 3",
   "language": "python",
   "name": "python3"
  },
  "language_info": {
   "codemirror_mode": {
    "name": "ipython",
    "version": 3
   },
   "file_extension": ".py",
   "mimetype": "text/x-python",
   "name": "python",
   "nbconvert_exporter": "python",
   "pygments_lexer": "ipython3",
   "version": "3.8.10"
  },
  "orig_nbformat": 4
 },
 "nbformat": 4,
 "nbformat_minor": 2
}
